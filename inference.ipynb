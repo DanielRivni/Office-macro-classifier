{
  "cells": [
    {
      "cell_type": "code",
      "execution_count": 1,
      "metadata": {
        "id": "QMZqmZKi15lq"
      },
      "outputs": [],
      "source": [
        "import pandas as pd\n",
        "import pickle\n",
        "from sklearn.feature_selection import SelectKBest\n",
        "from sklearn.feature_extraction.text import TfidfVectorizer\n"
      ]
    },
    {
      "cell_type": "code",
      "execution_count": null,
      "metadata": {
        "id": "Zi6NjI1O2DP1"
      },
      "outputs": [],
      "source": [
        "#Load test data\n",
        "test_data = pd.read_csv('test_dataset_without_labels.csv',encoding='utf-16-le') #change to your test name\n",
        "# Load trained vectorizer\n",
        "vectorizer = pickle.load(open('vectorizer.pkl', 'rb'))\n",
        "# Transform test data using the loaded vectorizer\n",
        "X_val  = vectorizer.transform(test_data['vba_code'])\n"
      ]
    },
    {
      "cell_type": "code",
      "execution_count": null,
      "metadata": {},
      "outputs": [],
      "source": [
        "# Load SelectKBest\n",
        "k_best = pickle.load(open('k_best.pkl', 'rb'))  # Load the SelectKBest object\n",
        "\n",
        "# Select the top features for test data\n",
        "X_val_selected = k_best.transform(X_val)"
      ]
    },
    {
      "cell_type": "code",
      "execution_count": null,
      "metadata": {
        "id": "VNPhQeZS2JEg"
      },
      "outputs": [],
      "source": [
        "# Load trained model\n",
        "model = pickle.load(open('trained_model.pkl', 'rb'))"
      ]
    },
    {
      "cell_type": "code",
      "execution_count": null,
      "metadata": {
        "id": "LFvvqHEX2b7Z"
      },
      "outputs": [],
      "source": [
        "# Make predictions\n",
        "predictions = model.predict(X_val_selected)\n"
      ]
    },
    {
      "cell_type": "code",
      "execution_count": null,
      "metadata": {
        "id": "VDUSGtps2bOQ"
      },
      "outputs": [],
      "source": [
        "# Save predictions\n",
        "submission = pd.DataFrame({'prediction': predictions})\n",
        "submission.to_csv('test_prediction.csv', index=False)"
      ]
    }
  ],
  "metadata": {
    "colab": {
      "provenance": []
    },
    "kernelspec": {
      "display_name": "Python 3 (ipykernel)",
      "language": "python",
      "name": "python3"
    },
    "language_info": {
      "codemirror_mode": {
        "name": "ipython",
        "version": 3
      },
      "file_extension": ".py",
      "mimetype": "text/x-python",
      "name": "python",
      "nbconvert_exporter": "python",
      "pygments_lexer": "ipython3",
      "version": "3.11.5"
    }
  },
  "nbformat": 4,
  "nbformat_minor": 0
}
